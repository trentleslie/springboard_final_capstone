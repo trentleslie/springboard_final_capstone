{
 "cells": [
  {
   "cell_type": "code",
   "execution_count": 12,
   "metadata": {},
   "outputs": [],
   "source": [
    "import requests\n",
    "import pandas as pd"
   ]
  },
  {
   "cell_type": "code",
   "execution_count": 13,
   "metadata": {},
   "outputs": [
    {
     "name": "stdout",
     "output_type": "stream",
     "text": [
      "                     2021-11-12 2021-11-11 2021-11-10 2021-11-09 2021-11-08  \\\n",
      "1. open                  465.12     465.21     465.58     469.32      469.7   \n",
      "2. high                  467.86     465.29     467.38     469.57     470.23   \n",
      "3. low                   464.11     463.75     462.04     465.88   468.2031   \n",
      "4. close                 467.27     463.77     463.62     467.38     468.93   \n",
      "5. adjusted close        467.27     463.77     463.62     467.38     468.93   \n",
      "6. volume              51018081   34848495   69429653   50232447   50405194   \n",
      "7. dividend amount       0.0000     0.0000     0.0000     0.0000     0.0000   \n",
      "8. split coefficient        1.0        1.0        1.0        1.0        1.0   \n",
      "\n",
      "                     2021-11-05 2021-11-04 2021-11-03 2021-11-02 2021-11-01  \\\n",
      "1. open                  469.28     465.36      461.3     460.22      460.3   \n",
      "2. high                  470.65      467.0     465.15     462.23   460.7021   \n",
      "3. low                   466.92     464.99     460.83     460.08      458.2   \n",
      "4. close                 468.53     466.91     464.72      461.9     460.04   \n",
      "5. adjusted close        468.53     466.91     464.72      461.9     460.04   \n",
      "6. volume              66390563   52847087   52509825   47840033   47474495   \n",
      "7. dividend amount       0.0000     0.0000     0.0000     0.0000     0.0000   \n",
      "8. split coefficient        1.0        1.0        1.0        1.0        1.0   \n",
      "\n",
      "                      ...     1999-11-12     1999-11-11     1999-11-10  \\\n",
      "1. open               ...         139.25       138.1875         136.25   \n",
      "2. high               ...     139.984299          138.5     138.390594   \n",
      "3. low                ...        137.125     137.468704     136.078094   \n",
      "4. close              ...         139.75          138.5     137.718704   \n",
      "5. adjusted close     ...  93.1082418514  92.2754311014  91.7548937352   \n",
      "6. volume             ...       11802900        4794100        6405600   \n",
      "7. dividend amount    ...         0.0000         0.0000         0.0000   \n",
      "8. split coefficient  ...            1.0            1.0            1.0   \n",
      "\n",
      "                         1999-11-09     1999-11-08     1999-11-05  \\\n",
      "1. open                       138.5          137.0        138.625   \n",
      "2. high                    138.6875        138.375     139.109299   \n",
      "3. low                   136.281204         136.75     136.781204   \n",
      "4. close                 136.703094          138.0        137.875   \n",
      "5. adjusted close     91.0782449945  91.9423068014  91.8590257264   \n",
      "6. volume                   4533700        4649200        7431500   \n",
      "7. dividend amount           0.0000         0.0000         0.0000   \n",
      "8. split coefficient            1.0            1.0            1.0   \n",
      "\n",
      "                         1999-11-04     1999-11-03     1999-11-02  \\\n",
      "1. open                      136.75          136.0     135.968704   \n",
      "2. high                  137.359299        136.375         137.25   \n",
      "3. low                   135.765594        135.125     134.593704   \n",
      "4. close                 136.531204          135.5     134.593704   \n",
      "5. adjusted close     90.9637235227  90.2766853014  89.6728668602   \n",
      "6. volume                   7907500        7222300        6516900   \n",
      "7. dividend amount           0.0000         0.0000         0.0000   \n",
      "8. split coefficient            1.0            1.0            1.0   \n",
      "\n",
      "                         1999-11-01  \n",
      "1. open                       136.5  \n",
      "2. high                       137.0  \n",
      "3. low                     135.5625  \n",
      "4. close                   135.5625  \n",
      "5. adjusted close     90.3183258389  \n",
      "6. volume                   4006500  \n",
      "7. dividend amount           0.0000  \n",
      "8. split coefficient            1.0  \n",
      "\n",
      "[8 rows x 5546 columns]\n"
     ]
    }
   ],
   "source": [
    "url = 'https://www.alphavantage.co/query?function=TIME_SERIES_DAILY_ADJUSTED&symbol=SPY&outputsize=full&apikey=PDS8Y8E8KULJVDET'\n",
    "r = requests.get(url)\n",
    "data = r.json()\n",
    "df = pd.DataFrame(data['Time Series (Daily)'])\n",
    "\n",
    "print(df)"
   ]
  },
  {
   "cell_type": "code",
   "execution_count": 14,
   "metadata": {},
   "outputs": [
    {
     "data": {
      "text/plain": [
       "(8, 5546)"
      ]
     },
     "execution_count": 14,
     "metadata": {},
     "output_type": "execute_result"
    }
   ],
   "source": [
    "df.shape"
   ]
  },
  {
   "cell_type": "code",
   "execution_count": 18,
   "metadata": {},
   "outputs": [
    {
     "name": "stdout",
     "output_type": "stream",
     "text": [
      "          2021-11-12 20:00:00 2021-11-12 19:00:00 2021-11-12 18:00:00  \\\n",
      "1. open              467.6000            467.5900            467.6100   \n",
      "2. high              467.6000            467.6900            467.6200   \n",
      "3. low               467.5000            467.5000            467.2700   \n",
      "4. close             467.6000            467.6200            467.4800   \n",
      "5. volume               20216               20029              997129   \n",
      "\n",
      "          2021-11-12 17:00:00 2021-11-12 16:00:00 2021-11-12 15:00:00  \\\n",
      "1. open              467.2400            466.6600            466.9600   \n",
      "2. high              468.0400            467.8600            467.0000   \n",
      "3. low               467.1700            466.6000            466.2550   \n",
      "4. close             467.6200            467.2600            466.6666   \n",
      "5. volume             5532577            16591027             4444466   \n",
      "\n",
      "          2021-11-12 14:00:00 2021-11-12 13:00:00 2021-11-12 12:00:00  \\\n",
      "1. open              466.8100            467.1300            465.3600   \n",
      "2. high              467.0000            467.3700            467.2800   \n",
      "3. low               466.3800            466.6700            465.3500   \n",
      "4. close             466.9600            466.8050            467.1300   \n",
      "5. volume             3205965             4010065             7379020   \n",
      "\n",
      "          2021-11-12 11:00:00  ... 2021-09-20 14:00:00 2021-09-20 13:00:00  \\\n",
      "1. open              464.2900  ...            431.6150            432.8850   \n",
      "2. high              465.3700  ...            432.4000            433.0200   \n",
      "3. low               464.1500  ...            430.6900            431.5900   \n",
      "4. close             465.3600  ...            431.9900            431.6200   \n",
      "5. volume             5435121  ...            12918750            15013900   \n",
      "\n",
      "          2021-09-20 12:00:00 2021-09-20 11:00:00 2021-09-20 10:00:00  \\\n",
      "1. open              434.1500            435.7500            434.2300   \n",
      "2. high              435.2200            435.8400            436.5600   \n",
      "3. low               432.8500            433.8800            433.7900   \n",
      "4. close             432.8868            434.1700            435.7200   \n",
      "5. volume            14635212            24911538            21495729   \n",
      "\n",
      "          2021-09-20 09:00:00 2021-09-20 08:00:00 2021-09-20 07:00:00  \\\n",
      "1. open              434.5300            435.5400            435.4800   \n",
      "2. high              438.6000            435.9600            436.1500   \n",
      "3. low               433.4800            434.5000            435.4800   \n",
      "4. close             434.1500            434.5400            435.5200   \n",
      "5. volume             1499030             1116834              144202   \n",
      "\n",
      "          2021-09-20 06:00:00 2021-09-20 05:00:00  \n",
      "1. open              436.4200            436.9100  \n",
      "2. high              436.5000            439.4900  \n",
      "3. low               435.1500            436.0300  \n",
      "4. close             435.5200            436.3700  \n",
      "5. volume              455171              336318  \n",
      "\n",
      "[5 rows x 640 columns]\n"
     ]
    }
   ],
   "source": [
    "url = 'https://www.alphavantage.co/query?function=TIME_SERIES_INTRADAY&symbol=SPY&outputsize=full&interval=60min&apikey=PDS8Y8E8KULJVDET'\n",
    "r = requests.get(url)\n",
    "data = r.json()\n",
    "df = pd.DataFrame(data['Time Series (60min)'])\n",
    "\n",
    "print(df)"
   ]
  },
  {
   "cell_type": "code",
   "execution_count": 19,
   "metadata": {},
   "outputs": [
    {
     "data": {
      "text/plain": [
       "(5, 640)"
      ]
     },
     "execution_count": 19,
     "metadata": {},
     "output_type": "execute_result"
    }
   ],
   "source": [
    "df.shape"
   ]
  }
 ],
 "metadata": {
  "interpreter": {
   "hash": "c4c1afcaa0824698e49fb009c9da9eaf010fa52d2eadd2a196450101a9336fb0"
  },
  "kernelspec": {
   "display_name": "Python 3.9.7 64-bit ('beta_lactamase': conda)",
   "name": "python3"
  },
  "language_info": {
   "codemirror_mode": {
    "name": "ipython",
    "version": 3
   },
   "file_extension": ".py",
   "mimetype": "text/x-python",
   "name": "python",
   "nbconvert_exporter": "python",
   "pygments_lexer": "ipython3",
   "version": "3.9.7"
  }
 },
 "nbformat": 4,
 "nbformat_minor": 2
}
