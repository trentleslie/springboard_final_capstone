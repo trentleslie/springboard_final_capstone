{
 "cells": [
  {
   "cell_type": "markdown",
   "metadata": {},
   "source": [
    "#### This notebook takes care of pulling the raw data from the Alpha Vantage API and writing it to csv files.\n",
    "\n",
    "#### 1) Orginal plan was to pull all available daily and hourly data for the two big index ETFs, SPY and QQQ\n",
    "####    However, no luck with the hourly data. I thought technical data went back more than the first \"slice\" but no luck.\n",
    "####    So for now, I'm going to expand on the number of ETFs for growing the dataset. In the future, I could calculate the\n",
    "####    technical indicators for hourly data (or find a source that likely isn't free)."
   ]
  },
  {
   "cell_type": "code",
   "execution_count": 1,
   "metadata": {},
   "outputs": [],
   "source": [
    "import requests\n",
    "import pandas as pd\n",
    "import time"
   ]
  },
  {
   "cell_type": "code",
   "execution_count": 2,
   "metadata": {},
   "outputs": [
    {
     "name": "stdout",
     "output_type": "stream",
     "text": [
      "SPY saved\n",
      "QQQ saved\n",
      "XLF saved\n",
      "EEM saved\n",
      "XLE saved\n",
      "SLV saved\n",
      "FXI saved\n",
      "GDX saved\n",
      "EFA saved\n",
      "TLT saved\n",
      "LQD saved\n",
      "XLU saved\n",
      "XLV saved\n",
      "XLI saved\n",
      "IEMG saved\n",
      "VWO saved\n",
      "XLK saved\n",
      "IEF saved\n",
      "XLB saved\n",
      "JETS saved\n",
      "BND saved\n"
     ]
    }
   ],
   "source": [
    "# symbols and technical indicators [code, interval, name]\n",
    "# https://www.alphavantage.co/documentation/#technical-indicators\n",
    "#\n",
    "# got rid of JNK (weirdly high open z-score mean), HYG (weirdly low low z-score mean), and EWZ/IEF (infinite end values)\n",
    "\n",
    "symbol_list = ['SPY','QQQ','XLF','EEM','XLE','SLV','FXI','GDX','EFA','TLT','LQD','XLU','XLV','XLI','IEMG','VWO','XLK','IEF','XLB','JETS','BND']\n",
    "tech_list = [['SMA',50,'Technical Analysis: SMA'],\n",
    "             ['EMA',21,'Technical Analysis: EMA'],\n",
    "             ['RSI',14,'Technical Analysis: RSI']]\n",
    "\n",
    "for symbol in symbol_list:\n",
    "\n",
    "    url = f\"https://www.alphavantage.co/query?function=TIME_SERIES_DAILY_ADJUSTED&symbol={symbol}&outputsize=full&apikey=PDS8Y8E8KULJVDET\"\n",
    "    r = requests.get(url)\n",
    "    data = r.json()\n",
    "    df_price = pd.DataFrame(data['Time Series (Daily)']).T\n",
    "    time.sleep(15)\n",
    "\n",
    "    for tech in tech_list:\n",
    "        url = f\"https://www.alphavantage.co/query?function={tech[0]}&symbol={symbol}&interval=daily&time_period={tech[1]}&series_type=close&apikey=PDS8Y8E8KULJVDET\"\n",
    "        r = requests.get(url)\n",
    "        data = r.json()\n",
    "        df_tech = pd.DataFrame(data[tech[2]]).T\n",
    "        df_price = df_price.merge(df_tech, how='inner', left_index=True, right_index=True)\n",
    "        time.sleep(15)\n",
    "    \n",
    "    df_price.to_csv(f\"../data/raw/{symbol}_daily.csv\")\n",
    "    print(f\"{symbol} saved\")\n"
   ]
  }
 ],
 "metadata": {
  "interpreter": {
   "hash": "c4c1afcaa0824698e49fb009c9da9eaf010fa52d2eadd2a196450101a9336fb0"
  },
  "kernelspec": {
   "display_name": "Python 3.9.7 64-bit ('beta_lactamase': conda)",
   "name": "python3"
  },
  "language_info": {
   "codemirror_mode": {
    "name": "ipython",
    "version": 3
   },
   "file_extension": ".py",
   "mimetype": "text/x-python",
   "name": "python",
   "nbconvert_exporter": "python",
   "pygments_lexer": "ipython3",
   "version": "3.8.10"
  }
 },
 "nbformat": 4,
 "nbformat_minor": 2
}
