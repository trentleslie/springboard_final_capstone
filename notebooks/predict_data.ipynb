{
 "cells": [
  {
   "cell_type": "code",
   "execution_count": 1,
   "metadata": {},
   "outputs": [],
   "source": [
    "import tensorflow as tf\n",
    "from tensorflow.keras.models import Sequential, save_model, load_model\n",
    "import pandas as pd\n",
    "import numpy as np"
   ]
  },
  {
   "cell_type": "code",
   "execution_count": 2,
   "metadata": {},
   "outputs": [
    {
     "name": "stdout",
     "output_type": "stream",
     "text": [
      "[[ 0.1458  0.579   0.792   0.813 ]\n",
      " [ 0.5435 -0.978  -0.4048 -0.9985]\n",
      " [-0.967  -0.858  -0.9604 -0.4814]\n",
      " [-0.588  -0.951  -0.8555 -0.966 ]\n",
      " [ 1.801  -0.9956  0.3167 -0.9995]]\n"
     ]
    }
   ],
   "source": [
    "window_size = 20\n",
    "\n",
    "# import csv, sort by date so percent change works, drop unneeded columns,\n",
    "# rename columns, calculate moving averages, calulate percent changes, drop na's\n",
    "df = pd.read_csv(f\"../data/interim/SPY_{window_size}_flattened.csv\")\n",
    "\n",
    "# features to use\n",
    "items = [\"close\", \"ema\", \"high\", \"low\", \"open\", \"rsi\", \"sma\", \"volume\"]\n",
    "day_counts = [f\"_{i}\" for i in range(0, window_size -1)]\n",
    "FEATURE_COLUMNS = []\n",
    "for day_count in day_counts:\n",
    "    for item in items:\n",
    "        FEATURE_COLUMNS.append(f\"{item}{day_count}\")\n",
    "\n",
    "df_pred = df[FEATURE_COLUMNS].iloc[-5:]\n",
    "\n",
    "# File path\n",
    "filepath = './results/2021-12-02_MIXED-20-huber_loss-adam-LSTM-elu-layers-3-units-1000-b.h5'\n",
    "\n",
    "# Load the model\n",
    "model = load_model(filepath, compile = True)\n",
    "\n",
    "# A few random samples\n",
    "samples_to_predict = np.array(df_pred)\n",
    "\n",
    "# Convert into Numpy array\n",
    "samples_to_predict = samples_to_predict.reshape((samples_to_predict.shape[0], 1, samples_to_predict.shape[1]))\n",
    "\n",
    "# Generate predictions for samples\n",
    "predictions = model.predict(samples_to_predict)\n",
    "print(predictions)"
   ]
  },
  {
   "cell_type": "code",
   "execution_count": 3,
   "metadata": {},
   "outputs": [
    {
     "data": {
      "text/html": [
       "<div>\n",
       "<style scoped>\n",
       "    .dataframe tbody tr th:only-of-type {\n",
       "        vertical-align: middle;\n",
       "    }\n",
       "\n",
       "    .dataframe tbody tr th {\n",
       "        vertical-align: top;\n",
       "    }\n",
       "\n",
       "    .dataframe thead th {\n",
       "        text-align: right;\n",
       "    }\n",
       "</style>\n",
       "<table border=\"1\" class=\"dataframe\">\n",
       "  <thead>\n",
       "    <tr style=\"text-align: right;\">\n",
       "      <th></th>\n",
       "      <th>close_19</th>\n",
       "      <th>high_19</th>\n",
       "      <th>low_19</th>\n",
       "      <th>open_19</th>\n",
       "    </tr>\n",
       "  </thead>\n",
       "  <tbody>\n",
       "    <tr>\n",
       "      <th>5417</th>\n",
       "      <td>-6.019399</td>\n",
       "      <td>-3.267932</td>\n",
       "      <td>-4.127482</td>\n",
       "      <td>-1.893078</td>\n",
       "    </tr>\n",
       "    <tr>\n",
       "      <th>5418</th>\n",
       "      <td>1.951144</td>\n",
       "      <td>1.020033</td>\n",
       "      <td>1.507010</td>\n",
       "      <td>0.581304</td>\n",
       "    </tr>\n",
       "    <tr>\n",
       "      <th>5419</th>\n",
       "      <td>-2.960694</td>\n",
       "      <td>-1.206372</td>\n",
       "      <td>-2.496941</td>\n",
       "      <td>-1.038766</td>\n",
       "    </tr>\n",
       "    <tr>\n",
       "      <th>5420</th>\n",
       "      <td>-1.322657</td>\n",
       "      <td>0.190118</td>\n",
       "      <td>-1.639220</td>\n",
       "      <td>-0.200215</td>\n",
       "    </tr>\n",
       "    <tr>\n",
       "      <th>5421</th>\n",
       "      <td>1.991047</td>\n",
       "      <td>-2.348125</td>\n",
       "      <td>0.160060</td>\n",
       "      <td>-4.880884</td>\n",
       "    </tr>\n",
       "  </tbody>\n",
       "</table>\n",
       "</div>"
      ],
      "text/plain": [
       "      close_19   high_19    low_19   open_19\n",
       "5417 -6.019399 -3.267932 -4.127482 -1.893078\n",
       "5418  1.951144  1.020033  1.507010  0.581304\n",
       "5419 -2.960694 -1.206372 -2.496941 -1.038766\n",
       "5420 -1.322657  0.190118 -1.639220 -0.200215\n",
       "5421  1.991047 -2.348125  0.160060 -4.880884"
      ]
     },
     "execution_count": 3,
     "metadata": {},
     "output_type": "execute_result"
    }
   ],
   "source": [
    "TARGET_COLUMNS = []\n",
    "for item in [\"close\", \"high\", \"low\", \"open\"]:\n",
    "    TARGET_COLUMNS.append(f\"{item}_{window_size - 1}\")\n",
    "df[TARGET_COLUMNS].iloc[-5:]"
   ]
  },
  {
   "cell_type": "code",
   "execution_count": null,
   "metadata": {},
   "outputs": [],
   "source": []
  }
 ],
 "metadata": {
  "interpreter": {
   "hash": "c4c1afcaa0824698e49fb009c9da9eaf010fa52d2eadd2a196450101a9336fb0"
  },
  "kernelspec": {
   "display_name": "Python 3.9.7 64-bit ('beta_lactamase': conda)",
   "name": "python3"
  },
  "language_info": {
   "codemirror_mode": {
    "name": "ipython",
    "version": 3
   },
   "file_extension": ".py",
   "mimetype": "text/x-python",
   "name": "python",
   "nbconvert_exporter": "python",
   "pygments_lexer": "ipython3",
   "version": "3.6.6"
  }
 },
 "nbformat": 4,
 "nbformat_minor": 2
}
